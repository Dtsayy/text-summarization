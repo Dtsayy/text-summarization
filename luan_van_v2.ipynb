{
 "cells": [
  {
   "cell_type": "code",
   "execution_count": 1,
   "id": "df8150ea",
   "metadata": {},
   "outputs": [],
   "source": [
    "import numpy as np\n",
    "import pandas as pd\n",
    "import matplotlib.pyplot as plt\n",
    "import torch\n",
    "import plotly.graph_objects as go\n",
    "import plotly.express as px\n",
    "# importing the native rouge library\n",
    "from rouge_score import rouge_scorer\n",
    "from transformers import T5ForConditionalGeneration, T5Tokenizer\n",
    "from tensorflow.keras.models import load_model\n",
    "from pyvi import ViTokenizer, ViPosTagger # thư viện NLP tiếng Việt\n",
    "from tqdm import tqdm\n",
    "import gensim # thư viện NLP\n",
    "import requests\n",
    "from bs4 import BeautifulSoup\n",
    "#import thư viện \n",
    "from numpy import genfromtxt\n",
    "from underthesea import sent_tokenize\n",
    "from underthesea import word_tokenize\n",
    "import matplotlib.pyplot as plt\n",
    "import re"
   ]
  },
  {
   "cell_type": "code",
   "execution_count": 6,
   "id": "814438b5",
   "metadata": {},
   "outputs": [],
   "source": [
    "data = pd.read_csv('dataset_crawl2.csv')"
   ]
  },
  {
   "cell_type": "code",
   "execution_count": 7,
   "id": "e22cfee9",
   "metadata": {},
   "outputs": [
    {
     "data": {
      "text/html": [
       "<div>\n",
       "<style scoped>\n",
       "    .dataframe tbody tr th:only-of-type {\n",
       "        vertical-align: middle;\n",
       "    }\n",
       "\n",
       "    .dataframe tbody tr th {\n",
       "        vertical-align: top;\n",
       "    }\n",
       "\n",
       "    .dataframe thead th {\n",
       "        text-align: right;\n",
       "    }\n",
       "</style>\n",
       "<table border=\"1\" class=\"dataframe\">\n",
       "  <thead>\n",
       "    <tr style=\"text-align: right;\">\n",
       "      <th></th>\n",
       "      <th>category_sentence</th>\n",
       "      <th>title</th>\n",
       "      <th>description</th>\n",
       "      <th>Sentence</th>\n",
       "    </tr>\n",
       "  </thead>\n",
       "  <tbody>\n",
       "    <tr>\n",
       "      <th>0</th>\n",
       "      <td>Thời sự</td>\n",
       "      <td>Tin sáng 28-9: Giá rau tăng do mưa bão; TP.HCM...</td>\n",
       "      <td>TTO - Giải ngân vốn đầu tư nước ngoài tiếp tục...</td>\n",
       "      <td>['', 'Do mưa bão, giá nhiều loại rau Đà Lạt nh...</td>\n",
       "    </tr>\n",
       "    <tr>\n",
       "      <th>1</th>\n",
       "      <td>Thế giới</td>\n",
       "      <td>Nga 'yêu cầu' Tổng thống Ukraine phát biểu trự...</td>\n",
       "      <td>TTO - Ngày 27-9, Đại sứ Nga tại Liên Hiệp Quốc...</td>\n",
       "      <td>['', 'Đại sứ Nga tại Liên Hiệp Quốc Vasily Neb...</td>\n",
       "    </tr>\n",
       "    <tr>\n",
       "      <th>2</th>\n",
       "      <td>Bạn đọc làm báo</td>\n",
       "      <td>Che chở nhau qua siêu bão</td>\n",
       "      <td>TTO - Chương trình có nhiều thông tin cập nhật...</td>\n",
       "      <td>['', 'Cụ Nguyễn Bá Loan (95 tuổi, thôn Tân Hy,...</td>\n",
       "    </tr>\n",
       "    <tr>\n",
       "      <th>3</th>\n",
       "      <td>Thể thao</td>\n",
       "      <td>Sau hai trận thua, mỗi trận vô ba trái, tuyển ...</td>\n",
       "      <td>TTO - Tối 26-9, có vẻ như mọi sự chú ý dồn về ...</td>\n",
       "      <td>['', 'Văn Toàn (9) được đồng đội chia vui sau ...</td>\n",
       "    </tr>\n",
       "    <tr>\n",
       "      <th>4</th>\n",
       "      <td>Kinh doanh</td>\n",
       "      <td>'Nếu cho tư nhân quản lý nhà ga hàng không, sẽ...</td>\n",
       "      <td>TTO - Khách quốc tế chưa phục hồi hoàn toàn nh...</td>\n",
       "      <td>['', 'Nhiều thời điểm tại Tân Sơn Nhất, khách ...</td>\n",
       "    </tr>\n",
       "  </tbody>\n",
       "</table>\n",
       "</div>"
      ],
      "text/plain": [
       "  category_sentence                                              title  \\\n",
       "0           Thời sự  Tin sáng 28-9: Giá rau tăng do mưa bão; TP.HCM...   \n",
       "1          Thế giới  Nga 'yêu cầu' Tổng thống Ukraine phát biểu trự...   \n",
       "2   Bạn đọc làm báo                          Che chở nhau qua siêu bão   \n",
       "3          Thể thao  Sau hai trận thua, mỗi trận vô ba trái, tuyển ...   \n",
       "4        Kinh doanh  'Nếu cho tư nhân quản lý nhà ga hàng không, sẽ...   \n",
       "\n",
       "                                         description  \\\n",
       "0  TTO - Giải ngân vốn đầu tư nước ngoài tiếp tục...   \n",
       "1  TTO - Ngày 27-9, Đại sứ Nga tại Liên Hiệp Quốc...   \n",
       "2  TTO - Chương trình có nhiều thông tin cập nhật...   \n",
       "3  TTO - Tối 26-9, có vẻ như mọi sự chú ý dồn về ...   \n",
       "4  TTO - Khách quốc tế chưa phục hồi hoàn toàn nh...   \n",
       "\n",
       "                                            Sentence  \n",
       "0  ['', 'Do mưa bão, giá nhiều loại rau Đà Lạt nh...  \n",
       "1  ['', 'Đại sứ Nga tại Liên Hiệp Quốc Vasily Neb...  \n",
       "2  ['', 'Cụ Nguyễn Bá Loan (95 tuổi, thôn Tân Hy,...  \n",
       "3  ['', 'Văn Toàn (9) được đồng đội chia vui sau ...  \n",
       "4  ['', 'Nhiều thời điểm tại Tân Sơn Nhất, khách ...  "
      ]
     },
     "execution_count": 7,
     "metadata": {},
     "output_type": "execute_result"
    }
   ],
   "source": [
    "data.head()"
   ]
  },
  {
   "cell_type": "code",
   "execution_count": 8,
   "id": "c13d2704",
   "metadata": {},
   "outputs": [],
   "source": [
    "def text_preprocess(sentence):\n",
    "    sentence = word_tokenize(sentence, format=\"text\")\n",
    "    sentence = re.sub(r\"[-()\\\"#/@;:<>{}`+=~|*'.!?,.]\", \"\", sentence)\n",
    "    sentence = re.sub(r'[^\\s\\wáàảãạăắằẳẵặâấầẩẫậéèẻẽẹêếềểễệóòỏõọôốồổỗộơớờởỡợíìỉĩịúùủũụưứừửữựýỳỷỹỵđ]',' ',sentence)\n",
    "    sentence.lower()\n",
    "    sentence = re.sub(r'\\s+', ' ', sentence).strip()\n",
    "    return sentence"
   ]
  },
  {
   "cell_type": "code",
   "execution_count": 9,
   "id": "242bd6de",
   "metadata": {},
   "outputs": [],
   "source": [
    "stopword = [\"ăn\", \"nhưng\", \"mình\", \"có\", \"là\", \"thì\", \"và\", \"cũng\", \"mà\", \"ở\", \"nên\", \"lại\", \"thấy\", \"đây\", \"đi\", \"như\", \"ra\", \"cho\", \"với\", \"đến\", \"gọi\", \"còn\", \"cái\", \"lần\", \"phải\", \"vụ\", \"các\", \"của\", \"để\", \"chỉ\", \"mới\", \"luôn\", \"gì\", \"vì\", \"một\", \"rồi\", \"sẽ\", \"nào\", \"nữa\", \"đã\", \"lúc\", \"làm\", \"chỗ\", \"khi\", \"bị\", \"về\", \"đó\", \"mấy\", \"hay\", \"vẫn\", \"từ\", \"thôi\", \"sau\", \"hôm\", \"bên\", \"chung\", \"chắc\", \"lượng\", \"giờ\", \"kiểu\", \"xong\", \"thể\", \"chứ\", \"thế\", \"độ\", \"bảo\", \"loại\", \"ngoài\", \"vậy\", \"sự\", \"sao\", \"tto\"]"
   ]
  },
  {
   "cell_type": "code",
   "execution_count": 10,
   "id": "c195e931",
   "metadata": {},
   "outputs": [],
   "source": [
    "def remove_stopwords(line):\n",
    "    words = []\n",
    "    for word in line.strip().split():\n",
    "        if word not in stopword:\n",
    "            words.append(word)\n",
    "    return ' '.join(words)"
   ]
  },
  {
   "cell_type": "code",
   "execution_count": 11,
   "id": "828e6eb4",
   "metadata": {},
   "outputs": [],
   "source": [
    "def clean(reviews):\n",
    "    review = []\n",
    "    for sentence in reviews:\n",
    "        review.append(text_preprocess(sentence))\n",
    "        \n",
    "    review = [i.lower() for i in review]\n",
    "    \n",
    "    new_review = []\n",
    "    for line in review:\n",
    "        new_review.append(remove_stopwords(line))\n",
    "    return new_review \n",
    "    "
   ]
  },
  {
   "cell_type": "code",
   "execution_count": 12,
   "id": "dcd4b346",
   "metadata": {},
   "outputs": [],
   "source": [
    "Sentence = clean(data['Sentence'])\n",
    "description = clean(data['description'])\n",
    "#content = data['content']\n",
    "catogory = data['category_sentence']\n",
    "#description = data['description']"
   ]
  },
  {
   "cell_type": "code",
   "execution_count": null,
   "id": "88a65890",
   "metadata": {},
   "outputs": [],
   "source": []
  },
  {
   "cell_type": "code",
   "execution_count": null,
   "id": "ecf7c541",
   "metadata": {},
   "outputs": [],
   "source": []
  },
  {
   "cell_type": "code",
   "execution_count": 13,
   "id": "ba2cb8e5",
   "metadata": {},
   "outputs": [],
   "source": [
    "def st(Sentence, catogory):\n",
    "    du_lieu = pd.DataFrame()\n",
    "    du_lieu['Sentence'] = Sentence\n",
    "    du_lieu['category_sentence'] = catogory\n",
    "    df = pd.read_csv('data1.csv')\n",
    "    data2 = df.append(du_lieu, ignore_index = True)\n",
    "    X_data = data2['Sentence']\n",
    "    y_data = data2['category_sentence']\n",
    "    with open('vietnamese-stopwords-dash.txt', 'r', encoding=\"utf8\") as f:\n",
    "        stopwords = set([w.strip() for w in f.readlines()])\n",
    "        \n",
    "    for i in range(len(X_data)):\n",
    "        text = X_data[i]\n",
    "        try:\n",
    "            split_words =  [x.strip('0123456789%@$.,=+-!;/()*\"&^:#|\\n\\t\\'').lower() for x in text.split()]\n",
    "        except TypeError:\n",
    "            split_words =  []\n",
    "        X_data[i] = ' '.join([word for word in split_words if word not in stopwords])\n",
    "        \n",
    "    \n",
    "    \n",
    "    return X_data, y_data\n",
    "    "
   ]
  },
  {
   "cell_type": "code",
   "execution_count": 14,
   "id": "1856977e",
   "metadata": {},
   "outputs": [
    {
     "name": "stderr",
     "output_type": "stream",
     "text": [
      "<ipython-input-13-d01fb54e76e9>:18: SettingWithCopyWarning: \n",
      "A value is trying to be set on a copy of a slice from a DataFrame\n",
      "\n",
      "See the caveats in the documentation: https://pandas.pydata.org/pandas-docs/stable/user_guide/indexing.html#returning-a-view-versus-a-copy\n",
      "  X_data[i] = ' '.join([word for word in split_words if word not in stopwords])\n"
     ]
    },
    {
     "data": {
      "text/plain": [
       "0        Chinh tri Xa hoi\n",
       "1        Chinh tri Xa hoi\n",
       "2        Chinh tri Xa hoi\n",
       "3        Chinh tri Xa hoi\n",
       "4        Chinh tri Xa hoi\n",
       "               ...       \n",
       "50388            Thể thao\n",
       "50389            Thế giới\n",
       "50390             Thời sự\n",
       "50391             Thời sự\n",
       "50392             Thời sự\n",
       "Name: category_sentence, Length: 50393, dtype: object"
      ]
     },
     "execution_count": 14,
     "metadata": {},
     "output_type": "execute_result"
    }
   ],
   "source": [
    "st = st(Sentence, catogory)\n",
    "st[1]"
   ]
  },
  {
   "cell_type": "code",
   "execution_count": 15,
   "id": "bf8446a4",
   "metadata": {},
   "outputs": [],
   "source": [
    "from sklearn.model_selection import train_test_split\n",
    "x, X_test, y, y_test = train_test_split(st[0], st[1], test_size=0.2)\n",
    "X_train, X_val, y_train, y_val = train_test_split(x, y, test_size=0.3)"
   ]
  },
  {
   "cell_type": "code",
   "execution_count": 16,
   "id": "768e032f",
   "metadata": {},
   "outputs": [],
   "source": [
    "from sklearn.feature_extraction.text import TfidfVectorizer\n",
    "\n",
    "tfidf_vect = TfidfVectorizer(analyzer='word', max_features=10000)\n",
    "#Tính tfidf cho tập train\n",
    "tfidf_vect.fit(st[0])\n",
    "#pickle.dump(tfidf_vect, open(\"/content/drive/My Drive/NLP/Model/vectorizer.pickle\", \"wb\"))\n",
    "x_trainn =  tfidf_vect.transform(X_train)\n",
    "x_testt =  tfidf_vect.transform(X_test)\n",
    "x_vall =  tfidf_vect.transform(X_val)\n",
    "tfidf_X_data = tfidf_vect.transform(st[0])"
   ]
  },
  {
   "cell_type": "code",
   "execution_count": 17,
   "id": "c1b6cbd5",
   "metadata": {},
   "outputs": [],
   "source": [
    "from sklearn.decomposition import TruncatedSVD\n",
    "\n",
    "svd = TruncatedSVD(n_components=500, random_state=1998)\n",
    "svd.fit(tfidf_X_data)\n",
    "#svd.fit(X_data)\n",
    "#pickle.dump(svd, open(\"/content/drive/My Drive/NLP/Model/selector.pickle\", \"wb\"))\n",
    "\n",
    "x_train = svd.transform(x_trainn)\n",
    "x_test = svd.transform(x_testt)\n",
    "x_val = svd.transform(x_vall)"
   ]
  },
  {
   "cell_type": "code",
   "execution_count": 18,
   "id": "a6c295cc",
   "metadata": {},
   "outputs": [],
   "source": [
    "def classification(sentence):\n",
    "    model1 = load_model('classification.h5')\n",
    "    \n",
    "    dt = [sentence] \n",
    "\n",
    "    dtt = tfidf_vect.transform(dt)\n",
    "    \n",
    "    dttt = svd.transform(dtt)\n",
    "    \n",
    "    l = model1.predict(dttt)\n",
    "    maximun = np.max(l)\n",
    "    \n",
    "    maxx = np.argmax(l)\n",
    "    classification = []\n",
    "    if maxx == 0:\n",
    "        classification = 'Chính trị xã hội'\n",
    "    elif maxx == 1:\n",
    "        classification = 'Đời sống'\n",
    "    elif maxx == 2:\n",
    "        classification = 'Kinh doanh'\n",
    "    elif maxx == 3:\n",
    "        classification = 'Khoa học'\n",
    "    elif maxx == 4:\n",
    "        classification = 'Pháp luật'\n",
    "    elif maxx == 5:\n",
    "        classification = 'Sức khỏe'\n",
    "    elif maxx == 6:\n",
    "        classification = 'Thế giới'\n",
    "    elif maxx == 7:\n",
    "        classification = 'Thể thao'\n",
    "    elif maxx == 8:\n",
    "        classification = 'Văn hóa'\n",
    "    else:\n",
    "        classification = 'Vi tính'\n",
    "        \n",
    "    return classification, maximun\n",
    "        \n",
    "    "
   ]
  },
  {
   "cell_type": "code",
   "execution_count": 19,
   "id": "e45b7430",
   "metadata": {},
   "outputs": [],
   "source": [
    "def summarization(sentence):\n",
    "    path = 'model_summarization'\n",
    "    model = T5ForConditionalGeneration.from_pretrained(path)\n",
    "    tokenizer = T5Tokenizer.from_pretrained(path)\n",
    "    \n",
    "    tokenized_texts = tokenizer.encode(sentence, return_tensors=\"pt\").to(device)\n",
    "    summary_ids = model.generate(\n",
    "                    tokenized_texts,\n",
    "                    max_length=256, \n",
    "                    num_beams=5,\n",
    "                    repetition_penalty=2.5, \n",
    "                    length_penalty=1.0, \n",
    "                    early_stopping=True\n",
    "                )\n",
    "    output = tokenizer.decode(summary_ids[0], skip_special_tokens=True)\n",
    "    \n",
    "    return output\n",
    "\n",
    "    "
   ]
  },
  {
   "cell_type": "code",
   "execution_count": 20,
   "id": "159d3ebd",
   "metadata": {},
   "outputs": [],
   "source": [
    "def rouge_scores(auto_sum, description):\n",
    "    scorer = rouge_scorer.RougeScorer(['rouge1', 'rouge2', 'rougeL'], use_stemmer=True)\n",
    "    scores = scorer.score(auto_sum, description)\n",
    "    \n",
    "    kq = pd.DataFrame(scores, index=('precision', 'recall', 'f-measure'))\n",
    "    \n",
    "    kq2 = kq.T\n",
    "    \n",
    "    return kq2\n",
    "    "
   ]
  },
  {
   "cell_type": "code",
   "execution_count": 21,
   "id": "557b2071",
   "metadata": {},
   "outputs": [
    {
     "name": "stdout",
     "output_type": "stream",
     "text": [
      "No GPU available, using the CPU instead.\n"
     ]
    }
   ],
   "source": [
    "if torch.cuda.is_available():       \n",
    "    device = torch.device(\"cuda\")\n",
    "\n",
    "    print('There are %d GPU(s) available.' % torch.cuda.device_count())\n",
    "\n",
    "    print('We will use the GPU:', torch.cuda.get_device_name(0))\n",
    "else:\n",
    "    print('No GPU available, using the CPU instead.')\n",
    "    device = torch.device(\"cpu\")"
   ]
  },
  {
   "cell_type": "code",
   "execution_count": null,
   "id": "f831d4de",
   "metadata": {},
   "outputs": [],
   "source": []
  },
  {
   "cell_type": "code",
   "execution_count": null,
   "id": "8d799f13",
   "metadata": {},
   "outputs": [],
   "source": []
  },
  {
   "cell_type": "code",
   "execution_count": 9,
   "id": "ab4ccf01",
   "metadata": {},
   "outputs": [],
   "source": []
  },
  {
   "cell_type": "code",
   "execution_count": 12,
   "id": "8a5abdc9",
   "metadata": {},
   "outputs": [],
   "source": []
  },
  {
   "cell_type": "code",
   "execution_count": null,
   "id": "f0b3920d",
   "metadata": {},
   "outputs": [],
   "source": []
  },
  {
   "cell_type": "code",
   "execution_count": null,
   "id": "e975ab48",
   "metadata": {},
   "outputs": [],
   "source": []
  },
  {
   "cell_type": "code",
   "execution_count": 44,
   "id": "d91a20c5",
   "metadata": {},
   "outputs": [],
   "source": []
  },
  {
   "cell_type": "code",
   "execution_count": 45,
   "id": "bf712b76",
   "metadata": {},
   "outputs": [],
   "source": []
  },
  {
   "cell_type": "code",
   "execution_count": 47,
   "id": "858436c9",
   "metadata": {},
   "outputs": [],
   "source": []
  },
  {
   "cell_type": "code",
   "execution_count": null,
   "id": "68f14653",
   "metadata": {},
   "outputs": [],
   "source": []
  },
  {
   "cell_type": "code",
   "execution_count": null,
   "id": "1574ebc4",
   "metadata": {},
   "outputs": [],
   "source": []
  },
  {
   "cell_type": "code",
   "execution_count": 5,
   "id": "c78dad2e",
   "metadata": {},
   "outputs": [],
   "source": []
  },
  {
   "cell_type": "code",
   "execution_count": null,
   "id": "569ca2c3",
   "metadata": {},
   "outputs": [],
   "source": []
  },
  {
   "cell_type": "code",
   "execution_count": 14,
   "id": "16f6d83d",
   "metadata": {},
   "outputs": [],
   "source": []
  },
  {
   "cell_type": "code",
   "execution_count": 15,
   "id": "965e215b",
   "metadata": {},
   "outputs": [],
   "source": []
  },
  {
   "cell_type": "code",
   "execution_count": 16,
   "id": "be1c334b",
   "metadata": {},
   "outputs": [],
   "source": []
  },
  {
   "cell_type": "code",
   "execution_count": null,
   "id": "3a4c16cc",
   "metadata": {},
   "outputs": [],
   "source": []
  },
  {
   "cell_type": "code",
   "execution_count": null,
   "id": "15356857",
   "metadata": {},
   "outputs": [],
   "source": []
  },
  {
   "cell_type": "code",
   "execution_count": null,
   "id": "56e722de",
   "metadata": {},
   "outputs": [],
   "source": []
  },
  {
   "cell_type": "code",
   "execution_count": 18,
   "id": "25a4bc18",
   "metadata": {},
   "outputs": [],
   "source": []
  },
  {
   "cell_type": "code",
   "execution_count": 19,
   "id": "59104eee",
   "metadata": {},
   "outputs": [],
   "source": []
  },
  {
   "cell_type": "code",
   "execution_count": 21,
   "id": "97f809cf",
   "metadata": {},
   "outputs": [],
   "source": []
  },
  {
   "cell_type": "code",
   "execution_count": 22,
   "id": "ba25ea44",
   "metadata": {},
   "outputs": [],
   "source": []
  },
  {
   "cell_type": "code",
   "execution_count": 23,
   "id": "385268a9",
   "metadata": {},
   "outputs": [],
   "source": []
  },
  {
   "cell_type": "code",
   "execution_count": null,
   "id": "f3d37c4b",
   "metadata": {},
   "outputs": [],
   "source": []
  },
  {
   "cell_type": "code",
   "execution_count": 25,
   "id": "29440982",
   "metadata": {},
   "outputs": [],
   "source": []
  },
  {
   "cell_type": "code",
   "execution_count": null,
   "id": "8be87a70",
   "metadata": {},
   "outputs": [],
   "source": []
  },
  {
   "cell_type": "code",
   "execution_count": null,
   "id": "7d9ad616",
   "metadata": {},
   "outputs": [],
   "source": []
  },
  {
   "cell_type": "code",
   "execution_count": 35,
   "id": "d9bf7185",
   "metadata": {},
   "outputs": [],
   "source": []
  },
  {
   "cell_type": "code",
   "execution_count": 36,
   "id": "25961e1f",
   "metadata": {},
   "outputs": [],
   "source": []
  },
  {
   "cell_type": "code",
   "execution_count": null,
   "id": "31491644",
   "metadata": {},
   "outputs": [],
   "source": []
  },
  {
   "cell_type": "markdown",
   "id": "7c7f508c",
   "metadata": {},
   "source": [
    "# Classification"
   ]
  },
  {
   "cell_type": "code",
   "execution_count": 79,
   "id": "c0278436",
   "metadata": {},
   "outputs": [],
   "source": [
    "data1 = pd.read_csv('dataset_crawl1.csv')"
   ]
  },
  {
   "cell_type": "code",
   "execution_count": 80,
   "id": "88114fa2",
   "metadata": {},
   "outputs": [
    {
     "data": {
      "text/html": [
       "<div>\n",
       "<style scoped>\n",
       "    .dataframe tbody tr th:only-of-type {\n",
       "        vertical-align: middle;\n",
       "    }\n",
       "\n",
       "    .dataframe tbody tr th {\n",
       "        vertical-align: top;\n",
       "    }\n",
       "\n",
       "    .dataframe thead th {\n",
       "        text-align: right;\n",
       "    }\n",
       "</style>\n",
       "<table border=\"1\" class=\"dataframe\">\n",
       "  <thead>\n",
       "    <tr style=\"text-align: right;\">\n",
       "      <th></th>\n",
       "      <th>category_sentence</th>\n",
       "      <th>title</th>\n",
       "      <th>description</th>\n",
       "      <th>Sentence</th>\n",
       "    </tr>\n",
       "  </thead>\n",
       "  <tbody>\n",
       "    <tr>\n",
       "      <th>0</th>\n",
       "      <td>Thế giới</td>\n",
       "      <td>Quốc vụ khanh Ấn Độ: TP.HCM phát triển nhanh b...</td>\n",
       "      <td>TTO - Quốc vụ khanh Bộ Ngoại giao Ấn Độ Rajkum...</td>\n",
       "      <td>['', 'Quốc vụ khanh Bộ Ngoại giao Ấn Độ Rajkum...</td>\n",
       "    </tr>\n",
       "    <tr>\n",
       "      <th>1</th>\n",
       "      <td>Giải trí</td>\n",
       "      <td>Thấy gì từ việc phim Thái, Hàn chiếm lĩnh rạp ...</td>\n",
       "      <td>TTO - Không phải phim bom tấn đắt tiền nhưng p...</td>\n",
       "      <td>['', 'Trailer phim \"Bỗng dưng trúng số\"', 'Phi...</td>\n",
       "    </tr>\n",
       "    <tr>\n",
       "      <th>2</th>\n",
       "      <td>Thời sự</td>\n",
       "      <td>Gần 800 ngư dân vào các âu tàu, làng chài ở...</td>\n",
       "      <td>TTO - Đến trưa 27-9, có gần 800 ngư dân củ...</td>\n",
       "      <td>['', 'Tàu cá vào tránh bão số 4 ở âu ta...</td>\n",
       "    </tr>\n",
       "    <tr>\n",
       "      <th>3</th>\n",
       "      <td>Pháp luật</td>\n",
       "      <td>Thanh tra Chính phủ chọn ngẫu nhiên 30 cán bộ ...</td>\n",
       "      <td>TTO - Thanh tra Chính phủ sẽ lựa chọn ngẫu nhi...</td>\n",
       "      <td>['', 'Thanh tra Chính phủ vừa ban hành kế hoạc...</td>\n",
       "    </tr>\n",
       "    <tr>\n",
       "      <th>4</th>\n",
       "      <td>Pháp luật</td>\n",
       "      <td>Công an TP.HCM bắt nhóm giả nhân viên ngân hàn...</td>\n",
       "      <td>TTO - Công an vừa triệt phá băng nhóm chuyên g...</td>\n",
       "      <td>['', 'Nguyễn Quốc Đạt khai nhận hành vi lừa đả...</td>\n",
       "    </tr>\n",
       "    <tr>\n",
       "      <th>5</th>\n",
       "      <td>Kinh doanh</td>\n",
       "      <td>Công ty ông Dũng “lò vôi” phủ nhận bán một phầ...</td>\n",
       "      <td>TTO - Trước thông tin lan truyền cho rằng một ...</td>\n",
       "      <td>['', 'Ông Huỳnh Uy Dũng hiện vẫn điều hành trự...</td>\n",
       "    </tr>\n",
       "    <tr>\n",
       "      <th>6</th>\n",
       "      <td>Giáo dục</td>\n",
       "      <td>Những khoản thu gây choáng đầu năm học: Tiền đ...</td>\n",
       "      <td>TTO - Trong hai ngày 24, 25-9 nhiều trường phổ...</td>\n",
       "      <td>['', '', 'Có thể nói tiền điểm danh, tổ chức k...</td>\n",
       "    </tr>\n",
       "    <tr>\n",
       "      <th>7</th>\n",
       "      <td>Giải trí</td>\n",
       "      <td>Khi trang phục dân tộc được sáng tạo quá đà</td>\n",
       "      <td>TTO - Phần thi trang phục dân tộc luôn nhận đư...</td>\n",
       "      <td>['', 'Sự kết hợp giữa áo yếm và áo bà ba gây t...</td>\n",
       "    </tr>\n",
       "    <tr>\n",
       "      <th>8</th>\n",
       "      <td>Kinh doanh</td>\n",
       "      <td>VCCI: Có thể miễn toàn bộ thuế tiêu thụ đặc bi...</td>\n",
       "      <td>TTO - Góp ý dự thảo nghị quyết của Quốc hội về...</td>\n",
       "      <td>['', 'Người dân đổ xăng trên đường Điện Biên P...</td>\n",
       "    </tr>\n",
       "    <tr>\n",
       "      <th>9</th>\n",
       "      <td>Xe</td>\n",
       "      <td>Các tính năng thú vị trên ô tô nhưng ít ai biế...</td>\n",
       "      <td>Một số tính năng ô tô mang tính thực dụng, tro...</td>\n",
       "      <td>['', 'Nhiều tính năng ô tô thú vị đã bị bỏ qua...</td>\n",
       "    </tr>\n",
       "    <tr>\n",
       "      <th>10</th>\n",
       "      <td>Thời sự</td>\n",
       "      <td>9/12 tỉnh, thành phố ở miền Trung chịu ảnh hưở...</td>\n",
       "      <td>TTO - Theo Trung tâm Dự báo khí tượng thủy văn...</td>\n",
       "      <td>['', 'Vị trí và hướng di chuyển của bão - Ảnh:...</td>\n",
       "    </tr>\n",
       "    <tr>\n",
       "      <th>11</th>\n",
       "      <td>Thời sự</td>\n",
       "      <td>Quân khu 5 huy động xe đặc chủng, máy bay cùng...</td>\n",
       "      <td>TTO - Sáng nay 27-9, Phòng Tác chiến Bộ Tư lện...</td>\n",
       "      <td>['', 'Chỉ huy các đơn vị bàn kế hoạch ứng phó ...</td>\n",
       "    </tr>\n",
       "    <tr>\n",
       "      <th>12</th>\n",
       "      <td>Kinh doanh</td>\n",
       "      <td>Bộ Công Thương cảnh báo khả năng rút giấy phép...</td>\n",
       "      <td>TTO - Trường hợp các cơ quan thanh tra, kiểm t...</td>\n",
       "      <td>['', 'Bộ Công Thương đề xuất tiếp tục phát tri...</td>\n",
       "    </tr>\n",
       "    <tr>\n",
       "      <th>13</th>\n",
       "      <td>Thời sự</td>\n",
       "      <td>Trực tiếp bão số 4: Miền Trung bắt đầu mưa to,...</td>\n",
       "      <td>TTO - 11h trưa nay, nhiều nơi ở các tỉnh miền ...</td>\n",
       "      <td>['', 'Hiện tại ven biển Đà Nẵng sóng và gió đã...</td>\n",
       "    </tr>\n",
       "    <tr>\n",
       "      <th>14</th>\n",
       "      <td>Thể thao</td>\n",
       "      <td>Tuyển futsal Việt Nam muốn thắng Hàn Quốc và S...</td>\n",
       "      <td>TTO - 20h tối 28-9, tuyển futsal Việt Nam sẽ g...</td>\n",
       "      <td>['', 'Tuyển futsal Việt Nam đã chuẩn bị những ...</td>\n",
       "    </tr>\n",
       "    <tr>\n",
       "      <th>15</th>\n",
       "      <td>Pháp luật</td>\n",
       "      <td>Rao dự án ở quận 10, mời khách mua đất ở Bình ...</td>\n",
       "      <td>TTO - Nhân viên một công ty bất động sản đăng ...</td>\n",
       "      <td>['', 'Công an làm việc với nhân viên môi giới ...</td>\n",
       "    </tr>\n",
       "    <tr>\n",
       "      <th>16</th>\n",
       "      <td>Pháp luật</td>\n",
       "      <td>Hoãn phiên tòa xử cựu phó chủ tịch thường trực...</td>\n",
       "      <td>TTO - Phiên tòa xét xử ông Nguyễn Chí Hiến - c...</td>\n",
       "      <td>['', 'Ông Nguyễn Chí Hiến - cựu phó chủ tịch t...</td>\n",
       "    </tr>\n",
       "    <tr>\n",
       "      <th>17</th>\n",
       "      <td>Kinh doanh</td>\n",
       "      <td>Hàng trăm chuyến bay bị hủy do bão số 4, gồm n...</td>\n",
       "      <td>TTO - Sáng 27-9, các hãng hàng không đã công b...</td>\n",
       "      <td>['', 'Hàng trăm chuyến bay bị hủy trong ngày 2...</td>\n",
       "    </tr>\n",
       "    <tr>\n",
       "      <th>18</th>\n",
       "      <td>Cần biết</td>\n",
       "      <td>Phòng khám Đa khoa Văn Kiệt - Địa chỉ khám da ...</td>\n",
       "      <td>Các bệnh da liễu thường lây lan nhanh và khó đ...</td>\n",
       "      <td>['', '', '', 'Vì sao nên chọn khám chữa da liễ...</td>\n",
       "    </tr>\n",
       "    <tr>\n",
       "      <th>19</th>\n",
       "      <td>Cần biết</td>\n",
       "      <td>Pharmacity chào đón khách hàng thành viên thứ ...</td>\n",
       "      <td>Kể từ nhà thuốc đi vào hoạt động năm 2011, Pha...</td>\n",
       "      <td>['', 'Chị Phạm Thị Ngọc Hiền chia sẻ niềm vui ...</td>\n",
       "    </tr>\n",
       "  </tbody>\n",
       "</table>\n",
       "</div>"
      ],
      "text/plain": [
       "   category_sentence                                              title  \\\n",
       "0           Thế giới  Quốc vụ khanh Ấn Độ: TP.HCM phát triển nhanh b...   \n",
       "1           Giải trí  Thấy gì từ việc phim Thái, Hàn chiếm lĩnh rạp ...   \n",
       "2            Thời sự  Gần 800 ngư dân vào các âu tàu, làng chài ở...   \n",
       "3          Pháp luật  Thanh tra Chính phủ chọn ngẫu nhiên 30 cán bộ ...   \n",
       "4          Pháp luật  Công an TP.HCM bắt nhóm giả nhân viên ngân hàn...   \n",
       "5         Kinh doanh  Công ty ông Dũng “lò vôi” phủ nhận bán một phầ...   \n",
       "6           Giáo dục  Những khoản thu gây choáng đầu năm học: Tiền đ...   \n",
       "7           Giải trí        Khi trang phục dân tộc được sáng tạo quá đà   \n",
       "8         Kinh doanh  VCCI: Có thể miễn toàn bộ thuế tiêu thụ đặc bi...   \n",
       "9                 Xe  Các tính năng thú vị trên ô tô nhưng ít ai biế...   \n",
       "10           Thời sự  9/12 tỉnh, thành phố ở miền Trung chịu ảnh hưở...   \n",
       "11           Thời sự  Quân khu 5 huy động xe đặc chủng, máy bay cùng...   \n",
       "12        Kinh doanh  Bộ Công Thương cảnh báo khả năng rút giấy phép...   \n",
       "13           Thời sự  Trực tiếp bão số 4: Miền Trung bắt đầu mưa to,...   \n",
       "14          Thể thao  Tuyển futsal Việt Nam muốn thắng Hàn Quốc và S...   \n",
       "15         Pháp luật  Rao dự án ở quận 10, mời khách mua đất ở Bình ...   \n",
       "16         Pháp luật  Hoãn phiên tòa xử cựu phó chủ tịch thường trực...   \n",
       "17        Kinh doanh  Hàng trăm chuyến bay bị hủy do bão số 4, gồm n...   \n",
       "18          Cần biết  Phòng khám Đa khoa Văn Kiệt - Địa chỉ khám da ...   \n",
       "19          Cần biết  Pharmacity chào đón khách hàng thành viên thứ ...   \n",
       "\n",
       "                                          description  \\\n",
       "0   TTO - Quốc vụ khanh Bộ Ngoại giao Ấn Độ Rajkum...   \n",
       "1   TTO - Không phải phim bom tấn đắt tiền nhưng p...   \n",
       "2   TTO - Đến trưa 27-9, có gần 800 ngư dân củ...   \n",
       "3   TTO - Thanh tra Chính phủ sẽ lựa chọn ngẫu nhi...   \n",
       "4   TTO - Công an vừa triệt phá băng nhóm chuyên g...   \n",
       "5   TTO - Trước thông tin lan truyền cho rằng một ...   \n",
       "6   TTO - Trong hai ngày 24, 25-9 nhiều trường phổ...   \n",
       "7   TTO - Phần thi trang phục dân tộc luôn nhận đư...   \n",
       "8   TTO - Góp ý dự thảo nghị quyết của Quốc hội về...   \n",
       "9   Một số tính năng ô tô mang tính thực dụng, tro...   \n",
       "10  TTO - Theo Trung tâm Dự báo khí tượng thủy văn...   \n",
       "11  TTO - Sáng nay 27-9, Phòng Tác chiến Bộ Tư lện...   \n",
       "12  TTO - Trường hợp các cơ quan thanh tra, kiểm t...   \n",
       "13  TTO - 11h trưa nay, nhiều nơi ở các tỉnh miền ...   \n",
       "14  TTO - 20h tối 28-9, tuyển futsal Việt Nam sẽ g...   \n",
       "15  TTO - Nhân viên một công ty bất động sản đăng ...   \n",
       "16  TTO - Phiên tòa xét xử ông Nguyễn Chí Hiến - c...   \n",
       "17  TTO - Sáng 27-9, các hãng hàng không đã công b...   \n",
       "18  Các bệnh da liễu thường lây lan nhanh và khó đ...   \n",
       "19  Kể từ nhà thuốc đi vào hoạt động năm 2011, Pha...   \n",
       "\n",
       "                                             Sentence  \n",
       "0   ['', 'Quốc vụ khanh Bộ Ngoại giao Ấn Độ Rajkum...  \n",
       "1   ['', 'Trailer phim \"Bỗng dưng trúng số\"', 'Phi...  \n",
       "2   ['', 'Tàu cá vào tránh bão số 4 ở âu ta...  \n",
       "3   ['', 'Thanh tra Chính phủ vừa ban hành kế hoạc...  \n",
       "4   ['', 'Nguyễn Quốc Đạt khai nhận hành vi lừa đả...  \n",
       "5   ['', 'Ông Huỳnh Uy Dũng hiện vẫn điều hành trự...  \n",
       "6   ['', '', 'Có thể nói tiền điểm danh, tổ chức k...  \n",
       "7   ['', 'Sự kết hợp giữa áo yếm và áo bà ba gây t...  \n",
       "8   ['', 'Người dân đổ xăng trên đường Điện Biên P...  \n",
       "9   ['', 'Nhiều tính năng ô tô thú vị đã bị bỏ qua...  \n",
       "10  ['', 'Vị trí và hướng di chuyển của bão - Ảnh:...  \n",
       "11  ['', 'Chỉ huy các đơn vị bàn kế hoạch ứng phó ...  \n",
       "12  ['', 'Bộ Công Thương đề xuất tiếp tục phát tri...  \n",
       "13  ['', 'Hiện tại ven biển Đà Nẵng sóng và gió đã...  \n",
       "14  ['', 'Tuyển futsal Việt Nam đã chuẩn bị những ...  \n",
       "15  ['', 'Công an làm việc với nhân viên môi giới ...  \n",
       "16  ['', 'Ông Nguyễn Chí Hiến - cựu phó chủ tịch t...  \n",
       "17  ['', 'Hàng trăm chuyến bay bị hủy trong ngày 2...  \n",
       "18  ['', '', '', 'Vì sao nên chọn khám chữa da liễ...  \n",
       "19  ['', 'Chị Phạm Thị Ngọc Hiền chia sẻ niềm vui ...  "
      ]
     },
     "execution_count": 80,
     "metadata": {},
     "output_type": "execute_result"
    }
   ],
   "source": [
    "data1"
   ]
  },
  {
   "cell_type": "code",
   "execution_count": 81,
   "id": "bacf9d37",
   "metadata": {},
   "outputs": [],
   "source": [
    "Sentence = clean(data1['Sentence'])\n",
    "description = clean(data1['description'])\n",
    "catogory = data1['category_sentence']"
   ]
  },
  {
   "cell_type": "code",
   "execution_count": 82,
   "id": "a6d120dd",
   "metadata": {},
   "outputs": [
    {
     "name": "stdout",
     "output_type": "stream",
     "text": [
      "nguyễn_quốc_đạt khai nhận hành_vi lừa_đảo tại cơ_quan công_an ảnh công_an cung_cấp sáng 279 xa0công an huyện bình_chánh tphcm tạm giữ lê_thị_thanh_sáu 32 tuổi xa0ngụ quận tân_phú cầm_đầu xa0và nguyễn_quốc_đạt 23 tuổi ngụ xa0tỉnh đồng_nai cùng 6 người khác xa0có liên_quan điều_tra hành_vi lừa_đảo chiếm_đoạt tài_sản sáu đạt khai nhận cả hai thỏa_thuận cùng nhau điều_hành nhóm lừa_đảo phân_công công_việc rõ_ràng ăn_chia lợi_nhuận phương_thức hoạt_động nhóm này giả_danh_nhân_viên ngân_hàng điện_thoại hại theo danh_sách dữ_liệu khách_hàng những người này xa0tìm mua được trên trang mạng tư_vấn gói vay lãi_suất 0 đồng trước nhận được khoản vay theo nhu_cầu hại đóng phí bảo_hiểm nhóm này số tiền 18 triệu đồng xa0cho gói vay 10 50 triệu hoặc 38 triệu đồng xa0cho gói vay 60 100 triệu đồng nhận được thẻ ngân_hàng không rút được tiền hại liên_lạc đối_tượng phản_hồi do thẻ lỗi cử_nhân_viên tận nhà giao tiền trực_tiếp cắt đứt liên_lạc hại đối_tượng sáu khai nhận bắt_đầu hoạt_động lừa_đảo nói trên vào khoảng đầu tháng 72022 nay khám_xét nơi làm_việc đối_tượng công_an thu_giữ nhiều tang_vật liên_quan bước_đầu công_an huyện bình_chánh mời làm_việc đối_với 10 hại tổng_số tiền chiếm_đoạt khoảng hơn 18 triệu đồng cơ_quan công_an đang tiếp_tục điều_tra xử_lý theo quy_định pháp_luật lê_thị_thanh_sáu cầm_đầu tại cơ_quan công_an ảnh công_an cung_cấp đối_tượng trong nhóm lừa_đảo ảnh công_an cung_cấp lừa_đảo hợp_tác đầu_tư ngoại_hối chiếm_đoạt hàng trăm triệu đồng nhận tin nhắn đề_nghị hợp_tác đầu_tư ngoại_hối tài_khoản zalo thời_gian trao_đổi bà n đồng_ý chuyển hùng số tiền 635 triệu đồng\n"
     ]
    }
   ],
   "source": [
    "print(Sentence[4])"
   ]
  },
  {
   "cell_type": "code",
   "execution_count": 83,
   "id": "ed5e8404",
   "metadata": {},
   "outputs": [
    {
     "name": "stdout",
     "output_type": "stream",
     "text": [
      "Pháp luật\n"
     ]
    }
   ],
   "source": [
    "print(catogory[4])"
   ]
  },
  {
   "cell_type": "code",
   "execution_count": 84,
   "id": "cbfc0f8f",
   "metadata": {},
   "outputs": [
    {
     "name": "stdout",
     "output_type": "stream",
     "text": [
      "WARNING:tensorflow:6 out of the last 6 calls to <function Model.make_predict_function.<locals>.predict_function at 0x00000192ACB1D550> triggered tf.function retracing. Tracing is expensive and the excessive number of tracings could be due to (1) creating @tf.function repeatedly in a loop, (2) passing tensors with different shapes, (3) passing Python objects instead of tensors. For (1), please define your @tf.function outside of the loop. For (2), @tf.function has experimental_relax_shapes=True option that relaxes argument shapes that can avoid unnecessary retracing. For (3), please refer to https://www.tensorflow.org/guide/function#controlling_retracing and https://www.tensorflow.org/api_docs/python/tf/function for  more details.\n"
     ]
    },
    {
     "name": "stderr",
     "output_type": "stream",
     "text": [
      "WARNING:tensorflow:6 out of the last 6 calls to <function Model.make_predict_function.<locals>.predict_function at 0x00000192ACB1D550> triggered tf.function retracing. Tracing is expensive and the excessive number of tracings could be due to (1) creating @tf.function repeatedly in a loop, (2) passing tensors with different shapes, (3) passing Python objects instead of tensors. For (1), please define your @tf.function outside of the loop. For (2), @tf.function has experimental_relax_shapes=True option that relaxes argument shapes that can avoid unnecessary retracing. For (3), please refer to https://www.tensorflow.org/guide/function#controlling_retracing and https://www.tensorflow.org/api_docs/python/tf/function for  more details.\n"
     ]
    },
    {
     "data": {
      "text/plain": [
       "('Pháp luật', 0.9992455)"
      ]
     },
     "execution_count": 84,
     "metadata": {},
     "output_type": "execute_result"
    }
   ],
   "source": [
    "classification(Sentence[4])"
   ]
  },
  {
   "cell_type": "code",
   "execution_count": null,
   "id": "41846b47",
   "metadata": {},
   "outputs": [],
   "source": []
  },
  {
   "cell_type": "code",
   "execution_count": null,
   "id": "e0e9d7ff",
   "metadata": {},
   "outputs": [],
   "source": []
  },
  {
   "cell_type": "code",
   "execution_count": 37,
   "id": "779a1d12",
   "metadata": {},
   "outputs": [],
   "source": []
  },
  {
   "cell_type": "markdown",
   "id": "0f90e9d3",
   "metadata": {},
   "source": [
    "# Summarization"
   ]
  },
  {
   "cell_type": "code",
   "execution_count": 85,
   "id": "8e95678b",
   "metadata": {},
   "outputs": [
    {
     "name": "stdout",
     "output_type": "stream",
     "text": [
      "nguyễn_quốc_đạt khai nhận hành_vi lừa_đảo tại cơ_quan công_an ảnh công_an cung_cấp sáng 279 xa0công an huyện bình_chánh tphcm tạm giữ lê_thị_thanh_sáu 32 tuổi xa0ngụ quận tân_phú cầm_đầu xa0và nguyễn_quốc_đạt 23 tuổi ngụ xa0tỉnh đồng_nai cùng 6 người khác xa0có liên_quan điều_tra hành_vi lừa_đảo chiếm_đoạt tài_sản sáu đạt khai nhận cả hai thỏa_thuận cùng nhau điều_hành nhóm lừa_đảo phân_công công_việc rõ_ràng ăn_chia lợi_nhuận phương_thức hoạt_động nhóm này giả_danh_nhân_viên ngân_hàng điện_thoại hại theo danh_sách dữ_liệu khách_hàng những người này xa0tìm mua được trên trang mạng tư_vấn gói vay lãi_suất 0 đồng trước nhận được khoản vay theo nhu_cầu hại đóng phí bảo_hiểm nhóm này số tiền 18 triệu đồng xa0cho gói vay 10 50 triệu hoặc 38 triệu đồng xa0cho gói vay 60 100 triệu đồng nhận được thẻ ngân_hàng không rút được tiền hại liên_lạc đối_tượng phản_hồi do thẻ lỗi cử_nhân_viên tận nhà giao tiền trực_tiếp cắt đứt liên_lạc hại đối_tượng sáu khai nhận bắt_đầu hoạt_động lừa_đảo nói trên vào khoảng đầu tháng 72022 nay khám_xét nơi làm_việc đối_tượng công_an thu_giữ nhiều tang_vật liên_quan bước_đầu công_an huyện bình_chánh mời làm_việc đối_với 10 hại tổng_số tiền chiếm_đoạt khoảng hơn 18 triệu đồng cơ_quan công_an đang tiếp_tục điều_tra xử_lý theo quy_định pháp_luật lê_thị_thanh_sáu cầm_đầu tại cơ_quan công_an ảnh công_an cung_cấp đối_tượng trong nhóm lừa_đảo ảnh công_an cung_cấp lừa_đảo hợp_tác đầu_tư ngoại_hối chiếm_đoạt hàng trăm triệu đồng nhận tin nhắn đề_nghị hợp_tác đầu_tư ngoại_hối tài_khoản zalo thời_gian trao_đổi bà n đồng_ý chuyển hùng số tiền 635 triệu đồng\n"
     ]
    }
   ],
   "source": [
    "print(Sentence[4])"
   ]
  },
  {
   "cell_type": "code",
   "execution_count": 86,
   "id": "c5c5394d",
   "metadata": {},
   "outputs": [
    {
     "name": "stdout",
     "output_type": "stream",
     "text": [
      "công_an vừa triệt_phá băng_nhóm chuyên giả_danh_nhân_viên ngân_hàng điện_thoại hại theo danh_sách dữ_liệu khách_hàng vay lãi_suất 0 đồng nhóm này bắt nạn_nhân đóng tiền phí bảo_hiểm bặt vô âm_tín\n"
     ]
    }
   ],
   "source": [
    "print(description[4])"
   ]
  },
  {
   "cell_type": "code",
   "execution_count": 87,
   "id": "0c8379b4",
   "metadata": {},
   "outputs": [
    {
     "data": {
      "text/plain": [
       "'Công an huyện bình_chánh tạm giữ lê_thị thanh_sáu 32 tuổi xa0ngụ quận tân_phú cầm_đầu xa0và nguyễn_quốc_đạt 23 tuổi ngụ xa0tỉnh đồng_nai cùng 6 người khác xa0có liên quan điều tra hành vi lừa_đảo chiếm_đoạt hàng trăm triệu đồng.'"
      ]
     },
     "execution_count": 87,
     "metadata": {},
     "output_type": "execute_result"
    }
   ],
   "source": [
    "auto_sum = summarization(Sentence[4])\n",
    "auto_sum"
   ]
  },
  {
   "cell_type": "code",
   "execution_count": 88,
   "id": "ed6c2ec4",
   "metadata": {},
   "outputs": [
    {
     "data": {
      "text/html": [
       "<div>\n",
       "<style scoped>\n",
       "    .dataframe tbody tr th:only-of-type {\n",
       "        vertical-align: middle;\n",
       "    }\n",
       "\n",
       "    .dataframe tbody tr th {\n",
       "        vertical-align: top;\n",
       "    }\n",
       "\n",
       "    .dataframe thead th {\n",
       "        text-align: right;\n",
       "    }\n",
       "</style>\n",
       "<table border=\"1\" class=\"dataframe\">\n",
       "  <thead>\n",
       "    <tr style=\"text-align: right;\">\n",
       "      <th></th>\n",
       "      <th>precision</th>\n",
       "      <th>recall</th>\n",
       "      <th>f-measure</th>\n",
       "    </tr>\n",
       "  </thead>\n",
       "  <tbody>\n",
       "    <tr>\n",
       "      <th>rouge1</th>\n",
       "      <td>0.480000</td>\n",
       "      <td>0.486486</td>\n",
       "      <td>0.483221</td>\n",
       "    </tr>\n",
       "    <tr>\n",
       "      <th>rouge2</th>\n",
       "      <td>0.081081</td>\n",
       "      <td>0.082192</td>\n",
       "      <td>0.081633</td>\n",
       "    </tr>\n",
       "    <tr>\n",
       "      <th>rougeL</th>\n",
       "      <td>0.226667</td>\n",
       "      <td>0.229730</td>\n",
       "      <td>0.228188</td>\n",
       "    </tr>\n",
       "  </tbody>\n",
       "</table>\n",
       "</div>"
      ],
      "text/plain": [
       "        precision    recall  f-measure\n",
       "rouge1   0.480000  0.486486   0.483221\n",
       "rouge2   0.081081  0.082192   0.081633\n",
       "rougeL   0.226667  0.229730   0.228188"
      ]
     },
     "execution_count": 88,
     "metadata": {},
     "output_type": "execute_result"
    }
   ],
   "source": [
    "rouge_score = rouge_scores(auto_sum, description[16])\n",
    "rouge_score"
   ]
  },
  {
   "cell_type": "code",
   "execution_count": 89,
   "id": "4a262ab7",
   "metadata": {},
   "outputs": [
    {
     "data": {
      "application/vnd.plotly.v1+json": {
       "config": {
        "plotlyServerURL": "https://plot.ly"
       },
       "data": [
        {
         "alignmentgroup": "True",
         "hovertemplate": "variable=precision<br>index=%{x}<br>value=%{y}<extra></extra>",
         "legendgroup": "precision",
         "marker": {
          "color": "#636efa",
          "pattern": {
           "shape": ""
          }
         },
         "name": "precision",
         "offsetgroup": "precision",
         "orientation": "v",
         "showlegend": true,
         "textposition": "auto",
         "type": "bar",
         "x": [
          "rouge1",
          "rouge2",
          "rougeL"
         ],
         "xaxis": "x",
         "y": [
          0.48,
          0.08108108108108109,
          0.22666666666666666
         ],
         "yaxis": "y"
        },
        {
         "alignmentgroup": "True",
         "hovertemplate": "variable=recall<br>index=%{x}<br>value=%{y}<extra></extra>",
         "legendgroup": "recall",
         "marker": {
          "color": "#EF553B",
          "pattern": {
           "shape": ""
          }
         },
         "name": "recall",
         "offsetgroup": "recall",
         "orientation": "v",
         "showlegend": true,
         "textposition": "auto",
         "type": "bar",
         "x": [
          "rouge1",
          "rouge2",
          "rougeL"
         ],
         "xaxis": "x",
         "y": [
          0.4864864864864865,
          0.0821917808219178,
          0.22972972972972974
         ],
         "yaxis": "y"
        },
        {
         "alignmentgroup": "True",
         "hovertemplate": "variable=f-measure<br>index=%{x}<br>value=%{y}<extra></extra>",
         "legendgroup": "f-measure",
         "marker": {
          "color": "#00cc96",
          "pattern": {
           "shape": ""
          }
         },
         "name": "f-measure",
         "offsetgroup": "f-measure",
         "orientation": "v",
         "showlegend": true,
         "textposition": "auto",
         "type": "bar",
         "x": [
          "rouge1",
          "rouge2",
          "rougeL"
         ],
         "xaxis": "x",
         "y": [
          0.48322147651006714,
          0.0816326530612245,
          0.22818791946308725
         ],
         "yaxis": "y"
        }
       ],
       "layout": {
        "barmode": "group",
        "legend": {
         "title": {
          "text": "variable"
         },
         "tracegroupgap": 0
        },
        "template": {
         "data": {
          "bar": [
           {
            "error_x": {
             "color": "#2a3f5f"
            },
            "error_y": {
             "color": "#2a3f5f"
            },
            "marker": {
             "line": {
              "color": "#E5ECF6",
              "width": 0.5
             },
             "pattern": {
              "fillmode": "overlay",
              "size": 10,
              "solidity": 0.2
             }
            },
            "type": "bar"
           }
          ],
          "barpolar": [
           {
            "marker": {
             "line": {
              "color": "#E5ECF6",
              "width": 0.5
             },
             "pattern": {
              "fillmode": "overlay",
              "size": 10,
              "solidity": 0.2
             }
            },
            "type": "barpolar"
           }
          ],
          "carpet": [
           {
            "aaxis": {
             "endlinecolor": "#2a3f5f",
             "gridcolor": "white",
             "linecolor": "white",
             "minorgridcolor": "white",
             "startlinecolor": "#2a3f5f"
            },
            "baxis": {
             "endlinecolor": "#2a3f5f",
             "gridcolor": "white",
             "linecolor": "white",
             "minorgridcolor": "white",
             "startlinecolor": "#2a3f5f"
            },
            "type": "carpet"
           }
          ],
          "choropleth": [
           {
            "colorbar": {
             "outlinewidth": 0,
             "ticks": ""
            },
            "type": "choropleth"
           }
          ],
          "contour": [
           {
            "colorbar": {
             "outlinewidth": 0,
             "ticks": ""
            },
            "colorscale": [
             [
              0,
              "#0d0887"
             ],
             [
              0.1111111111111111,
              "#46039f"
             ],
             [
              0.2222222222222222,
              "#7201a8"
             ],
             [
              0.3333333333333333,
              "#9c179e"
             ],
             [
              0.4444444444444444,
              "#bd3786"
             ],
             [
              0.5555555555555556,
              "#d8576b"
             ],
             [
              0.6666666666666666,
              "#ed7953"
             ],
             [
              0.7777777777777778,
              "#fb9f3a"
             ],
             [
              0.8888888888888888,
              "#fdca26"
             ],
             [
              1,
              "#f0f921"
             ]
            ],
            "type": "contour"
           }
          ],
          "contourcarpet": [
           {
            "colorbar": {
             "outlinewidth": 0,
             "ticks": ""
            },
            "type": "contourcarpet"
           }
          ],
          "heatmap": [
           {
            "colorbar": {
             "outlinewidth": 0,
             "ticks": ""
            },
            "colorscale": [
             [
              0,
              "#0d0887"
             ],
             [
              0.1111111111111111,
              "#46039f"
             ],
             [
              0.2222222222222222,
              "#7201a8"
             ],
             [
              0.3333333333333333,
              "#9c179e"
             ],
             [
              0.4444444444444444,
              "#bd3786"
             ],
             [
              0.5555555555555556,
              "#d8576b"
             ],
             [
              0.6666666666666666,
              "#ed7953"
             ],
             [
              0.7777777777777778,
              "#fb9f3a"
             ],
             [
              0.8888888888888888,
              "#fdca26"
             ],
             [
              1,
              "#f0f921"
             ]
            ],
            "type": "heatmap"
           }
          ],
          "heatmapgl": [
           {
            "colorbar": {
             "outlinewidth": 0,
             "ticks": ""
            },
            "colorscale": [
             [
              0,
              "#0d0887"
             ],
             [
              0.1111111111111111,
              "#46039f"
             ],
             [
              0.2222222222222222,
              "#7201a8"
             ],
             [
              0.3333333333333333,
              "#9c179e"
             ],
             [
              0.4444444444444444,
              "#bd3786"
             ],
             [
              0.5555555555555556,
              "#d8576b"
             ],
             [
              0.6666666666666666,
              "#ed7953"
             ],
             [
              0.7777777777777778,
              "#fb9f3a"
             ],
             [
              0.8888888888888888,
              "#fdca26"
             ],
             [
              1,
              "#f0f921"
             ]
            ],
            "type": "heatmapgl"
           }
          ],
          "histogram": [
           {
            "marker": {
             "pattern": {
              "fillmode": "overlay",
              "size": 10,
              "solidity": 0.2
             }
            },
            "type": "histogram"
           }
          ],
          "histogram2d": [
           {
            "colorbar": {
             "outlinewidth": 0,
             "ticks": ""
            },
            "colorscale": [
             [
              0,
              "#0d0887"
             ],
             [
              0.1111111111111111,
              "#46039f"
             ],
             [
              0.2222222222222222,
              "#7201a8"
             ],
             [
              0.3333333333333333,
              "#9c179e"
             ],
             [
              0.4444444444444444,
              "#bd3786"
             ],
             [
              0.5555555555555556,
              "#d8576b"
             ],
             [
              0.6666666666666666,
              "#ed7953"
             ],
             [
              0.7777777777777778,
              "#fb9f3a"
             ],
             [
              0.8888888888888888,
              "#fdca26"
             ],
             [
              1,
              "#f0f921"
             ]
            ],
            "type": "histogram2d"
           }
          ],
          "histogram2dcontour": [
           {
            "colorbar": {
             "outlinewidth": 0,
             "ticks": ""
            },
            "colorscale": [
             [
              0,
              "#0d0887"
             ],
             [
              0.1111111111111111,
              "#46039f"
             ],
             [
              0.2222222222222222,
              "#7201a8"
             ],
             [
              0.3333333333333333,
              "#9c179e"
             ],
             [
              0.4444444444444444,
              "#bd3786"
             ],
             [
              0.5555555555555556,
              "#d8576b"
             ],
             [
              0.6666666666666666,
              "#ed7953"
             ],
             [
              0.7777777777777778,
              "#fb9f3a"
             ],
             [
              0.8888888888888888,
              "#fdca26"
             ],
             [
              1,
              "#f0f921"
             ]
            ],
            "type": "histogram2dcontour"
           }
          ],
          "mesh3d": [
           {
            "colorbar": {
             "outlinewidth": 0,
             "ticks": ""
            },
            "type": "mesh3d"
           }
          ],
          "parcoords": [
           {
            "line": {
             "colorbar": {
              "outlinewidth": 0,
              "ticks": ""
             }
            },
            "type": "parcoords"
           }
          ],
          "pie": [
           {
            "automargin": true,
            "type": "pie"
           }
          ],
          "scatter": [
           {
            "fillpattern": {
             "fillmode": "overlay",
             "size": 10,
             "solidity": 0.2
            },
            "type": "scatter"
           }
          ],
          "scatter3d": [
           {
            "line": {
             "colorbar": {
              "outlinewidth": 0,
              "ticks": ""
             }
            },
            "marker": {
             "colorbar": {
              "outlinewidth": 0,
              "ticks": ""
             }
            },
            "type": "scatter3d"
           }
          ],
          "scattercarpet": [
           {
            "marker": {
             "colorbar": {
              "outlinewidth": 0,
              "ticks": ""
             }
            },
            "type": "scattercarpet"
           }
          ],
          "scattergeo": [
           {
            "marker": {
             "colorbar": {
              "outlinewidth": 0,
              "ticks": ""
             }
            },
            "type": "scattergeo"
           }
          ],
          "scattergl": [
           {
            "marker": {
             "colorbar": {
              "outlinewidth": 0,
              "ticks": ""
             }
            },
            "type": "scattergl"
           }
          ],
          "scattermapbox": [
           {
            "marker": {
             "colorbar": {
              "outlinewidth": 0,
              "ticks": ""
             }
            },
            "type": "scattermapbox"
           }
          ],
          "scatterpolar": [
           {
            "marker": {
             "colorbar": {
              "outlinewidth": 0,
              "ticks": ""
             }
            },
            "type": "scatterpolar"
           }
          ],
          "scatterpolargl": [
           {
            "marker": {
             "colorbar": {
              "outlinewidth": 0,
              "ticks": ""
             }
            },
            "type": "scatterpolargl"
           }
          ],
          "scatterternary": [
           {
            "marker": {
             "colorbar": {
              "outlinewidth": 0,
              "ticks": ""
             }
            },
            "type": "scatterternary"
           }
          ],
          "surface": [
           {
            "colorbar": {
             "outlinewidth": 0,
             "ticks": ""
            },
            "colorscale": [
             [
              0,
              "#0d0887"
             ],
             [
              0.1111111111111111,
              "#46039f"
             ],
             [
              0.2222222222222222,
              "#7201a8"
             ],
             [
              0.3333333333333333,
              "#9c179e"
             ],
             [
              0.4444444444444444,
              "#bd3786"
             ],
             [
              0.5555555555555556,
              "#d8576b"
             ],
             [
              0.6666666666666666,
              "#ed7953"
             ],
             [
              0.7777777777777778,
              "#fb9f3a"
             ],
             [
              0.8888888888888888,
              "#fdca26"
             ],
             [
              1,
              "#f0f921"
             ]
            ],
            "type": "surface"
           }
          ],
          "table": [
           {
            "cells": {
             "fill": {
              "color": "#EBF0F8"
             },
             "line": {
              "color": "white"
             }
            },
            "header": {
             "fill": {
              "color": "#C8D4E3"
             },
             "line": {
              "color": "white"
             }
            },
            "type": "table"
           }
          ]
         },
         "layout": {
          "annotationdefaults": {
           "arrowcolor": "#2a3f5f",
           "arrowhead": 0,
           "arrowwidth": 1
          },
          "autotypenumbers": "strict",
          "coloraxis": {
           "colorbar": {
            "outlinewidth": 0,
            "ticks": ""
           }
          },
          "colorscale": {
           "diverging": [
            [
             0,
             "#8e0152"
            ],
            [
             0.1,
             "#c51b7d"
            ],
            [
             0.2,
             "#de77ae"
            ],
            [
             0.3,
             "#f1b6da"
            ],
            [
             0.4,
             "#fde0ef"
            ],
            [
             0.5,
             "#f7f7f7"
            ],
            [
             0.6,
             "#e6f5d0"
            ],
            [
             0.7,
             "#b8e186"
            ],
            [
             0.8,
             "#7fbc41"
            ],
            [
             0.9,
             "#4d9221"
            ],
            [
             1,
             "#276419"
            ]
           ],
           "sequential": [
            [
             0,
             "#0d0887"
            ],
            [
             0.1111111111111111,
             "#46039f"
            ],
            [
             0.2222222222222222,
             "#7201a8"
            ],
            [
             0.3333333333333333,
             "#9c179e"
            ],
            [
             0.4444444444444444,
             "#bd3786"
            ],
            [
             0.5555555555555556,
             "#d8576b"
            ],
            [
             0.6666666666666666,
             "#ed7953"
            ],
            [
             0.7777777777777778,
             "#fb9f3a"
            ],
            [
             0.8888888888888888,
             "#fdca26"
            ],
            [
             1,
             "#f0f921"
            ]
           ],
           "sequentialminus": [
            [
             0,
             "#0d0887"
            ],
            [
             0.1111111111111111,
             "#46039f"
            ],
            [
             0.2222222222222222,
             "#7201a8"
            ],
            [
             0.3333333333333333,
             "#9c179e"
            ],
            [
             0.4444444444444444,
             "#bd3786"
            ],
            [
             0.5555555555555556,
             "#d8576b"
            ],
            [
             0.6666666666666666,
             "#ed7953"
            ],
            [
             0.7777777777777778,
             "#fb9f3a"
            ],
            [
             0.8888888888888888,
             "#fdca26"
            ],
            [
             1,
             "#f0f921"
            ]
           ]
          },
          "colorway": [
           "#636efa",
           "#EF553B",
           "#00cc96",
           "#ab63fa",
           "#FFA15A",
           "#19d3f3",
           "#FF6692",
           "#B6E880",
           "#FF97FF",
           "#FECB52"
          ],
          "font": {
           "color": "#2a3f5f"
          },
          "geo": {
           "bgcolor": "white",
           "lakecolor": "white",
           "landcolor": "#E5ECF6",
           "showlakes": true,
           "showland": true,
           "subunitcolor": "white"
          },
          "hoverlabel": {
           "align": "left"
          },
          "hovermode": "closest",
          "mapbox": {
           "style": "light"
          },
          "paper_bgcolor": "white",
          "plot_bgcolor": "#E5ECF6",
          "polar": {
           "angularaxis": {
            "gridcolor": "white",
            "linecolor": "white",
            "ticks": ""
           },
           "bgcolor": "#E5ECF6",
           "radialaxis": {
            "gridcolor": "white",
            "linecolor": "white",
            "ticks": ""
           }
          },
          "scene": {
           "xaxis": {
            "backgroundcolor": "#E5ECF6",
            "gridcolor": "white",
            "gridwidth": 2,
            "linecolor": "white",
            "showbackground": true,
            "ticks": "",
            "zerolinecolor": "white"
           },
           "yaxis": {
            "backgroundcolor": "#E5ECF6",
            "gridcolor": "white",
            "gridwidth": 2,
            "linecolor": "white",
            "showbackground": true,
            "ticks": "",
            "zerolinecolor": "white"
           },
           "zaxis": {
            "backgroundcolor": "#E5ECF6",
            "gridcolor": "white",
            "gridwidth": 2,
            "linecolor": "white",
            "showbackground": true,
            "ticks": "",
            "zerolinecolor": "white"
           }
          },
          "shapedefaults": {
           "line": {
            "color": "#2a3f5f"
           }
          },
          "ternary": {
           "aaxis": {
            "gridcolor": "white",
            "linecolor": "white",
            "ticks": ""
           },
           "baxis": {
            "gridcolor": "white",
            "linecolor": "white",
            "ticks": ""
           },
           "bgcolor": "#E5ECF6",
           "caxis": {
            "gridcolor": "white",
            "linecolor": "white",
            "ticks": ""
           }
          },
          "title": {
           "x": 0.05
          },
          "xaxis": {
           "automargin": true,
           "gridcolor": "white",
           "linecolor": "white",
           "ticks": "",
           "title": {
            "standoff": 15
           },
           "zerolinecolor": "white",
           "zerolinewidth": 2
          },
          "yaxis": {
           "automargin": true,
           "gridcolor": "white",
           "linecolor": "white",
           "ticks": "",
           "title": {
            "standoff": 15
           },
           "zerolinecolor": "white",
           "zerolinewidth": 2
          }
         }
        },
        "title": {
         "text": "Đánh giá văn bản tóm tắt"
        },
        "xaxis": {
         "anchor": "y",
         "domain": [
          0,
          1
         ],
         "title": {
          "text": "index"
         }
        },
        "yaxis": {
         "anchor": "x",
         "domain": [
          0,
          1
         ],
         "range": [
          0,
          1
         ],
         "title": {
          "text": "value"
         }
        }
       }
      },
      "text/html": [
       "<div>                            <div id=\"0b8a779a-693b-46bb-b8d6-564dd50c755e\" class=\"plotly-graph-div\" style=\"height:525px; width:100%;\"></div>            <script type=\"text/javascript\">                require([\"plotly\"], function(Plotly) {                    window.PLOTLYENV=window.PLOTLYENV || {};                                    if (document.getElementById(\"0b8a779a-693b-46bb-b8d6-564dd50c755e\")) {                    Plotly.newPlot(                        \"0b8a779a-693b-46bb-b8d6-564dd50c755e\",                        [{\"alignmentgroup\":\"True\",\"hovertemplate\":\"variable=precision<br>index=%{x}<br>value=%{y}<extra></extra>\",\"legendgroup\":\"precision\",\"marker\":{\"color\":\"#636efa\",\"pattern\":{\"shape\":\"\"}},\"name\":\"precision\",\"offsetgroup\":\"precision\",\"orientation\":\"v\",\"showlegend\":true,\"textposition\":\"auto\",\"x\":[\"rouge1\",\"rouge2\",\"rougeL\"],\"xaxis\":\"x\",\"y\":[0.48,0.08108108108108109,0.22666666666666666],\"yaxis\":\"y\",\"type\":\"bar\"},{\"alignmentgroup\":\"True\",\"hovertemplate\":\"variable=recall<br>index=%{x}<br>value=%{y}<extra></extra>\",\"legendgroup\":\"recall\",\"marker\":{\"color\":\"#EF553B\",\"pattern\":{\"shape\":\"\"}},\"name\":\"recall\",\"offsetgroup\":\"recall\",\"orientation\":\"v\",\"showlegend\":true,\"textposition\":\"auto\",\"x\":[\"rouge1\",\"rouge2\",\"rougeL\"],\"xaxis\":\"x\",\"y\":[0.4864864864864865,0.0821917808219178,0.22972972972972974],\"yaxis\":\"y\",\"type\":\"bar\"},{\"alignmentgroup\":\"True\",\"hovertemplate\":\"variable=f-measure<br>index=%{x}<br>value=%{y}<extra></extra>\",\"legendgroup\":\"f-measure\",\"marker\":{\"color\":\"#00cc96\",\"pattern\":{\"shape\":\"\"}},\"name\":\"f-measure\",\"offsetgroup\":\"f-measure\",\"orientation\":\"v\",\"showlegend\":true,\"textposition\":\"auto\",\"x\":[\"rouge1\",\"rouge2\",\"rougeL\"],\"xaxis\":\"x\",\"y\":[0.48322147651006714,0.0816326530612245,0.22818791946308725],\"yaxis\":\"y\",\"type\":\"bar\"}],                        {\"template\":{\"data\":{\"histogram2dcontour\":[{\"type\":\"histogram2dcontour\",\"colorbar\":{\"outlinewidth\":0,\"ticks\":\"\"},\"colorscale\":[[0.0,\"#0d0887\"],[0.1111111111111111,\"#46039f\"],[0.2222222222222222,\"#7201a8\"],[0.3333333333333333,\"#9c179e\"],[0.4444444444444444,\"#bd3786\"],[0.5555555555555556,\"#d8576b\"],[0.6666666666666666,\"#ed7953\"],[0.7777777777777778,\"#fb9f3a\"],[0.8888888888888888,\"#fdca26\"],[1.0,\"#f0f921\"]]}],\"choropleth\":[{\"type\":\"choropleth\",\"colorbar\":{\"outlinewidth\":0,\"ticks\":\"\"}}],\"histogram2d\":[{\"type\":\"histogram2d\",\"colorbar\":{\"outlinewidth\":0,\"ticks\":\"\"},\"colorscale\":[[0.0,\"#0d0887\"],[0.1111111111111111,\"#46039f\"],[0.2222222222222222,\"#7201a8\"],[0.3333333333333333,\"#9c179e\"],[0.4444444444444444,\"#bd3786\"],[0.5555555555555556,\"#d8576b\"],[0.6666666666666666,\"#ed7953\"],[0.7777777777777778,\"#fb9f3a\"],[0.8888888888888888,\"#fdca26\"],[1.0,\"#f0f921\"]]}],\"heatmap\":[{\"type\":\"heatmap\",\"colorbar\":{\"outlinewidth\":0,\"ticks\":\"\"},\"colorscale\":[[0.0,\"#0d0887\"],[0.1111111111111111,\"#46039f\"],[0.2222222222222222,\"#7201a8\"],[0.3333333333333333,\"#9c179e\"],[0.4444444444444444,\"#bd3786\"],[0.5555555555555556,\"#d8576b\"],[0.6666666666666666,\"#ed7953\"],[0.7777777777777778,\"#fb9f3a\"],[0.8888888888888888,\"#fdca26\"],[1.0,\"#f0f921\"]]}],\"heatmapgl\":[{\"type\":\"heatmapgl\",\"colorbar\":{\"outlinewidth\":0,\"ticks\":\"\"},\"colorscale\":[[0.0,\"#0d0887\"],[0.1111111111111111,\"#46039f\"],[0.2222222222222222,\"#7201a8\"],[0.3333333333333333,\"#9c179e\"],[0.4444444444444444,\"#bd3786\"],[0.5555555555555556,\"#d8576b\"],[0.6666666666666666,\"#ed7953\"],[0.7777777777777778,\"#fb9f3a\"],[0.8888888888888888,\"#fdca26\"],[1.0,\"#f0f921\"]]}],\"contourcarpet\":[{\"type\":\"contourcarpet\",\"colorbar\":{\"outlinewidth\":0,\"ticks\":\"\"}}],\"contour\":[{\"type\":\"contour\",\"colorbar\":{\"outlinewidth\":0,\"ticks\":\"\"},\"colorscale\":[[0.0,\"#0d0887\"],[0.1111111111111111,\"#46039f\"],[0.2222222222222222,\"#7201a8\"],[0.3333333333333333,\"#9c179e\"],[0.4444444444444444,\"#bd3786\"],[0.5555555555555556,\"#d8576b\"],[0.6666666666666666,\"#ed7953\"],[0.7777777777777778,\"#fb9f3a\"],[0.8888888888888888,\"#fdca26\"],[1.0,\"#f0f921\"]]}],\"surface\":[{\"type\":\"surface\",\"colorbar\":{\"outlinewidth\":0,\"ticks\":\"\"},\"colorscale\":[[0.0,\"#0d0887\"],[0.1111111111111111,\"#46039f\"],[0.2222222222222222,\"#7201a8\"],[0.3333333333333333,\"#9c179e\"],[0.4444444444444444,\"#bd3786\"],[0.5555555555555556,\"#d8576b\"],[0.6666666666666666,\"#ed7953\"],[0.7777777777777778,\"#fb9f3a\"],[0.8888888888888888,\"#fdca26\"],[1.0,\"#f0f921\"]]}],\"mesh3d\":[{\"type\":\"mesh3d\",\"colorbar\":{\"outlinewidth\":0,\"ticks\":\"\"}}],\"scatter\":[{\"fillpattern\":{\"fillmode\":\"overlay\",\"size\":10,\"solidity\":0.2},\"type\":\"scatter\"}],\"parcoords\":[{\"type\":\"parcoords\",\"line\":{\"colorbar\":{\"outlinewidth\":0,\"ticks\":\"\"}}}],\"scatterpolargl\":[{\"type\":\"scatterpolargl\",\"marker\":{\"colorbar\":{\"outlinewidth\":0,\"ticks\":\"\"}}}],\"bar\":[{\"error_x\":{\"color\":\"#2a3f5f\"},\"error_y\":{\"color\":\"#2a3f5f\"},\"marker\":{\"line\":{\"color\":\"#E5ECF6\",\"width\":0.5},\"pattern\":{\"fillmode\":\"overlay\",\"size\":10,\"solidity\":0.2}},\"type\":\"bar\"}],\"scattergeo\":[{\"type\":\"scattergeo\",\"marker\":{\"colorbar\":{\"outlinewidth\":0,\"ticks\":\"\"}}}],\"scatterpolar\":[{\"type\":\"scatterpolar\",\"marker\":{\"colorbar\":{\"outlinewidth\":0,\"ticks\":\"\"}}}],\"histogram\":[{\"marker\":{\"pattern\":{\"fillmode\":\"overlay\",\"size\":10,\"solidity\":0.2}},\"type\":\"histogram\"}],\"scattergl\":[{\"type\":\"scattergl\",\"marker\":{\"colorbar\":{\"outlinewidth\":0,\"ticks\":\"\"}}}],\"scatter3d\":[{\"type\":\"scatter3d\",\"line\":{\"colorbar\":{\"outlinewidth\":0,\"ticks\":\"\"}},\"marker\":{\"colorbar\":{\"outlinewidth\":0,\"ticks\":\"\"}}}],\"scattermapbox\":[{\"type\":\"scattermapbox\",\"marker\":{\"colorbar\":{\"outlinewidth\":0,\"ticks\":\"\"}}}],\"scatterternary\":[{\"type\":\"scatterternary\",\"marker\":{\"colorbar\":{\"outlinewidth\":0,\"ticks\":\"\"}}}],\"scattercarpet\":[{\"type\":\"scattercarpet\",\"marker\":{\"colorbar\":{\"outlinewidth\":0,\"ticks\":\"\"}}}],\"carpet\":[{\"aaxis\":{\"endlinecolor\":\"#2a3f5f\",\"gridcolor\":\"white\",\"linecolor\":\"white\",\"minorgridcolor\":\"white\",\"startlinecolor\":\"#2a3f5f\"},\"baxis\":{\"endlinecolor\":\"#2a3f5f\",\"gridcolor\":\"white\",\"linecolor\":\"white\",\"minorgridcolor\":\"white\",\"startlinecolor\":\"#2a3f5f\"},\"type\":\"carpet\"}],\"table\":[{\"cells\":{\"fill\":{\"color\":\"#EBF0F8\"},\"line\":{\"color\":\"white\"}},\"header\":{\"fill\":{\"color\":\"#C8D4E3\"},\"line\":{\"color\":\"white\"}},\"type\":\"table\"}],\"barpolar\":[{\"marker\":{\"line\":{\"color\":\"#E5ECF6\",\"width\":0.5},\"pattern\":{\"fillmode\":\"overlay\",\"size\":10,\"solidity\":0.2}},\"type\":\"barpolar\"}],\"pie\":[{\"automargin\":true,\"type\":\"pie\"}]},\"layout\":{\"autotypenumbers\":\"strict\",\"colorway\":[\"#636efa\",\"#EF553B\",\"#00cc96\",\"#ab63fa\",\"#FFA15A\",\"#19d3f3\",\"#FF6692\",\"#B6E880\",\"#FF97FF\",\"#FECB52\"],\"font\":{\"color\":\"#2a3f5f\"},\"hovermode\":\"closest\",\"hoverlabel\":{\"align\":\"left\"},\"paper_bgcolor\":\"white\",\"plot_bgcolor\":\"#E5ECF6\",\"polar\":{\"bgcolor\":\"#E5ECF6\",\"angularaxis\":{\"gridcolor\":\"white\",\"linecolor\":\"white\",\"ticks\":\"\"},\"radialaxis\":{\"gridcolor\":\"white\",\"linecolor\":\"white\",\"ticks\":\"\"}},\"ternary\":{\"bgcolor\":\"#E5ECF6\",\"aaxis\":{\"gridcolor\":\"white\",\"linecolor\":\"white\",\"ticks\":\"\"},\"baxis\":{\"gridcolor\":\"white\",\"linecolor\":\"white\",\"ticks\":\"\"},\"caxis\":{\"gridcolor\":\"white\",\"linecolor\":\"white\",\"ticks\":\"\"}},\"coloraxis\":{\"colorbar\":{\"outlinewidth\":0,\"ticks\":\"\"}},\"colorscale\":{\"sequential\":[[0.0,\"#0d0887\"],[0.1111111111111111,\"#46039f\"],[0.2222222222222222,\"#7201a8\"],[0.3333333333333333,\"#9c179e\"],[0.4444444444444444,\"#bd3786\"],[0.5555555555555556,\"#d8576b\"],[0.6666666666666666,\"#ed7953\"],[0.7777777777777778,\"#fb9f3a\"],[0.8888888888888888,\"#fdca26\"],[1.0,\"#f0f921\"]],\"sequentialminus\":[[0.0,\"#0d0887\"],[0.1111111111111111,\"#46039f\"],[0.2222222222222222,\"#7201a8\"],[0.3333333333333333,\"#9c179e\"],[0.4444444444444444,\"#bd3786\"],[0.5555555555555556,\"#d8576b\"],[0.6666666666666666,\"#ed7953\"],[0.7777777777777778,\"#fb9f3a\"],[0.8888888888888888,\"#fdca26\"],[1.0,\"#f0f921\"]],\"diverging\":[[0,\"#8e0152\"],[0.1,\"#c51b7d\"],[0.2,\"#de77ae\"],[0.3,\"#f1b6da\"],[0.4,\"#fde0ef\"],[0.5,\"#f7f7f7\"],[0.6,\"#e6f5d0\"],[0.7,\"#b8e186\"],[0.8,\"#7fbc41\"],[0.9,\"#4d9221\"],[1,\"#276419\"]]},\"xaxis\":{\"gridcolor\":\"white\",\"linecolor\":\"white\",\"ticks\":\"\",\"title\":{\"standoff\":15},\"zerolinecolor\":\"white\",\"automargin\":true,\"zerolinewidth\":2},\"yaxis\":{\"gridcolor\":\"white\",\"linecolor\":\"white\",\"ticks\":\"\",\"title\":{\"standoff\":15},\"zerolinecolor\":\"white\",\"automargin\":true,\"zerolinewidth\":2},\"scene\":{\"xaxis\":{\"backgroundcolor\":\"#E5ECF6\",\"gridcolor\":\"white\",\"linecolor\":\"white\",\"showbackground\":true,\"ticks\":\"\",\"zerolinecolor\":\"white\",\"gridwidth\":2},\"yaxis\":{\"backgroundcolor\":\"#E5ECF6\",\"gridcolor\":\"white\",\"linecolor\":\"white\",\"showbackground\":true,\"ticks\":\"\",\"zerolinecolor\":\"white\",\"gridwidth\":2},\"zaxis\":{\"backgroundcolor\":\"#E5ECF6\",\"gridcolor\":\"white\",\"linecolor\":\"white\",\"showbackground\":true,\"ticks\":\"\",\"zerolinecolor\":\"white\",\"gridwidth\":2}},\"shapedefaults\":{\"line\":{\"color\":\"#2a3f5f\"}},\"annotationdefaults\":{\"arrowcolor\":\"#2a3f5f\",\"arrowhead\":0,\"arrowwidth\":1},\"geo\":{\"bgcolor\":\"white\",\"landcolor\":\"#E5ECF6\",\"subunitcolor\":\"white\",\"showland\":true,\"showlakes\":true,\"lakecolor\":\"white\"},\"title\":{\"x\":0.05},\"mapbox\":{\"style\":\"light\"}}},\"xaxis\":{\"anchor\":\"y\",\"domain\":[0.0,1.0],\"title\":{\"text\":\"index\"}},\"yaxis\":{\"anchor\":\"x\",\"domain\":[0.0,1.0],\"title\":{\"text\":\"value\"},\"range\":[0,1]},\"legend\":{\"title\":{\"text\":\"variable\"},\"tracegroupgap\":0},\"title\":{\"text\":\"\\u0110\\u00e1nh gi\\u00e1 v\\u0103n b\\u1ea3n t\\u00f3m t\\u1eaft\"},\"barmode\":\"group\"},                        {\"responsive\": true}                    ).then(function(){\n",
       "                            \n",
       "var gd = document.getElementById('0b8a779a-693b-46bb-b8d6-564dd50c755e');\n",
       "var x = new MutationObserver(function (mutations, observer) {{\n",
       "        var display = window.getComputedStyle(gd).display;\n",
       "        if (!display || display === 'none') {{\n",
       "            console.log([gd, 'removed!']);\n",
       "            Plotly.purge(gd);\n",
       "            observer.disconnect();\n",
       "        }}\n",
       "}});\n",
       "\n",
       "// Listen for the removal of the full notebook cells\n",
       "var notebookContainer = gd.closest('#notebook-container');\n",
       "if (notebookContainer) {{\n",
       "    x.observe(notebookContainer, {childList: true});\n",
       "}}\n",
       "\n",
       "// Listen for the clearing of the current output cell\n",
       "var outputEl = gd.closest('.output');\n",
       "if (outputEl) {{\n",
       "    x.observe(outputEl, {childList: true});\n",
       "}}\n",
       "\n",
       "                        })                };                });            </script>        </div>"
      ]
     },
     "metadata": {},
     "output_type": "display_data"
    }
   ],
   "source": [
    "fig = px.bar(rouge_score, barmode='group', range_y=[0, 1], \n",
    "            labels={'x':'Phương pháp đánh giá', 'y':'Độ chính xác'},\n",
    "             title='Đánh giá văn bản tóm tắt'\n",
    "            )\n",
    "fig.show()"
   ]
  },
  {
   "cell_type": "code",
   "execution_count": null,
   "id": "c9b5c0cb",
   "metadata": {},
   "outputs": [],
   "source": []
  },
  {
   "cell_type": "code",
   "execution_count": 38,
   "id": "fe1fe114",
   "metadata": {},
   "outputs": [],
   "source": []
  },
  {
   "cell_type": "code",
   "execution_count": 39,
   "id": "503bd9da",
   "metadata": {},
   "outputs": [],
   "source": []
  },
  {
   "cell_type": "code",
   "execution_count": 40,
   "id": "3f127576",
   "metadata": {},
   "outputs": [],
   "source": []
  },
  {
   "cell_type": "code",
   "execution_count": null,
   "id": "f1a6deaa",
   "metadata": {},
   "outputs": [],
   "source": []
  },
  {
   "cell_type": "code",
   "execution_count": null,
   "id": "b4125ab4",
   "metadata": {},
   "outputs": [],
   "source": []
  },
  {
   "cell_type": "code",
   "execution_count": null,
   "id": "327b5cb1",
   "metadata": {},
   "outputs": [],
   "source": []
  },
  {
   "cell_type": "code",
   "execution_count": null,
   "id": "2025ef79",
   "metadata": {},
   "outputs": [],
   "source": []
  },
  {
   "cell_type": "code",
   "execution_count": 69,
   "id": "3b1408f2",
   "metadata": {},
   "outputs": [],
   "source": []
  },
  {
   "cell_type": "code",
   "execution_count": 41,
   "id": "a537ae5e",
   "metadata": {},
   "outputs": [],
   "source": []
  },
  {
   "cell_type": "code",
   "execution_count": 74,
   "id": "1a127ba2",
   "metadata": {},
   "outputs": [],
   "source": []
  },
  {
   "cell_type": "code",
   "execution_count": null,
   "id": "8a7c4a12",
   "metadata": {},
   "outputs": [],
   "source": []
  },
  {
   "cell_type": "code",
   "execution_count": 53,
   "id": "6ef062ce",
   "metadata": {},
   "outputs": [],
   "source": []
  },
  {
   "cell_type": "code",
   "execution_count": null,
   "id": "4701d135",
   "metadata": {},
   "outputs": [],
   "source": []
  },
  {
   "cell_type": "code",
   "execution_count": null,
   "id": "fb252d39",
   "metadata": {},
   "outputs": [],
   "source": []
  },
  {
   "cell_type": "code",
   "execution_count": null,
   "id": "bd30c3ed",
   "metadata": {},
   "outputs": [],
   "source": []
  },
  {
   "cell_type": "code",
   "execution_count": 84,
   "id": "13a15fd2",
   "metadata": {},
   "outputs": [],
   "source": []
  },
  {
   "cell_type": "code",
   "execution_count": null,
   "id": "e3cef2af",
   "metadata": {},
   "outputs": [],
   "source": []
  },
  {
   "cell_type": "code",
   "execution_count": null,
   "id": "09b111af",
   "metadata": {},
   "outputs": [],
   "source": []
  }
 ],
 "metadata": {
  "kernelspec": {
   "display_name": "Python 3",
   "language": "python",
   "name": "python3"
  },
  "language_info": {
   "codemirror_mode": {
    "name": "ipython",
    "version": 3
   },
   "file_extension": ".py",
   "mimetype": "text/x-python",
   "name": "python",
   "nbconvert_exporter": "python",
   "pygments_lexer": "ipython3",
   "version": "3.8.8"
  }
 },
 "nbformat": 4,
 "nbformat_minor": 5
}
